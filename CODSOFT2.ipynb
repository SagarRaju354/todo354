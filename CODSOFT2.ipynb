{
  "nbformat": 4,
  "nbformat_minor": 0,
  "metadata": {
    "colab": {
      "provenance": [],
      "authorship_tag": "ABX9TyPCG57Jn+DfCOEP4oxjEMqc",
      "include_colab_link": true
    },
    "kernelspec": {
      "name": "python3",
      "display_name": "Python 3"
    },
    "language_info": {
      "name": "python"
    }
  },
  "cells": [
    {
      "cell_type": "markdown",
      "metadata": {
        "id": "view-in-github",
        "colab_type": "text"
      },
      "source": [
        "<a href=\"https://colab.research.google.com/github/SagarRaju354/todo354/blob/main/CODSOFT2.ipynb\" target=\"_parent\"><img src=\"https://colab.research.google.com/assets/colab-badge.svg\" alt=\"Open In Colab\"/></a>"
      ]
    },
    {
      "cell_type": "code",
      "source": [
        "\n",
        "import random\n",
        "\n",
        "# Choices available\n",
        "choices = ['rock', 'paper', 'scissors']\n",
        "\n",
        "while True:\n",
        "    # Get user input\n",
        "    user_choice = input(\"Enter rock, paper, or scissors (or 'quit' to stop): \").lower()\n",
        "\n",
        "    if user_choice == 'quit':\n",
        "        print(\"Thanks for playing!\")\n",
        "        break\n",
        "\n",
        "    if user_choice not in choices:\n",
        "        print(\"Invalid choice. Please try again.\")\n",
        "        continue\n",
        "\n",
        "    # Computer randomly chooses\n",
        "    computer_choice = random.choice(choices)\n",
        "    print(f\"Computer chose: {computer_choice}\")\n",
        "\n",
        "    # Determine the winner\n",
        "    if user_choice == computer_choice:\n",
        "        print(\"It's a tie!\")\n",
        "    elif (\n",
        "        (user_choice == 'rock' and computer_choice == 'scissors') or\n",
        "        (user_choice == 'paper' and computer_choice == 'rock') or\n",
        "        (user_choice == 'scissors' and computer_choice == 'paper')\n",
        "    ):\n",
        "        print(\"You win!\")\n",
        "    else:\n",
        "        print(\"Computer wins!\")\n",
        "\n",
        "    print()  # Just for spacing"
      ],
      "metadata": {
        "colab": {
          "base_uri": "https://localhost:8080/"
        },
        "id": "NcNO_xx_bq29",
        "outputId": "0c23789a-b2f2-402a-cfb9-b0cf305a2b26"
      },
      "execution_count": null,
      "outputs": [
        {
          "output_type": "stream",
          "name": "stdout",
          "text": [
            "Enter rock, paper, or scissors (or 'quit' to stop): Paper\n",
            "Computer chose: paper\n",
            "It's a tie!\n",
            "\n",
            "Enter rock, paper, or scissors (or 'quit' to stop): Rock\n",
            "Computer chose: paper\n",
            "Computer wins!\n",
            "\n",
            "Enter rock, paper, or scissors (or 'quit' to stop): Paper\n",
            "Computer chose: rock\n",
            "You win!\n",
            "\n",
            "Enter rock, paper, or scissors (or 'quit' to stop): Quit\n",
            "Thanks for playing!\n"
          ]
        }
      ]
    }
  ]
}