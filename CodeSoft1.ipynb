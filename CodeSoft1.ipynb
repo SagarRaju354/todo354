{
  "nbformat": 4,
  "nbformat_minor": 0,
  "metadata": {
    "colab": {
      "provenance": [],
      "include_colab_link": true
    },
    "kernelspec": {
      "name": "python3",
      "display_name": "Python 3"
    },
    "language_info": {
      "name": "python"
    }
  },
  "cells": [
    {
      "cell_type": "markdown",
      "metadata": {
        "id": "view-in-github",
        "colab_type": "text"
      },
      "source": [
        "<a href=\"https://colab.research.google.com/github/SagarRaju354/todo354/blob/main/CodeSoft1.ipynb\" target=\"_parent\"><img src=\"https://colab.research.google.com/assets/colab-badge.svg\" alt=\"Open In Colab\"/></a>"
      ]
    },
    {
      "cell_type": "markdown",
      "source": [],
      "metadata": {
        "id": "zgRMu-vnk4s4"
      }
    },
    {
      "cell_type": "code",
      "source": [
        "\n",
        "# Simple Calculator in Python\n",
        "\n",
        "# Prompting user for input\n",
        "num1 = float(input(\"Enter the first number: \"))\n",
        "num2 = float(input(\"Enter the second number: \"))\n",
        "\n",
        "# Displaying operation choices\n",
        "print(\"\\nSelect operation:\")\n",
        "print(\"1. Addition (+)\")\n",
        "print(\"2. Subtraction (-)\")\n",
        "print(\"3. Multiplication (*)\")\n",
        "print(\"4. Division (/)\")\n",
        "\n",
        "# Getting the operation choice from the user\n",
        "choice = input(\"Enter the operation (1/2/3/4): \")\n",
        "\n",
        "# Performing the operation\n",
        "if choice == '1':\n",
        "    result = num1 + num2\n",
        "    print(f\"\\nResult: {num1} + {num2} = {result}\")\n",
        "\n",
        "elif choice == '2':\n",
        "    result = num1 - num2\n",
        "    print(f\"\\nResult: {num1} - {num2} = {result}\")\n",
        "\n",
        "elif choice == '3':\n",
        "    result = num1 * num2\n",
        "    print(f\"\\nResult: {num1} * {num2} = {result}\")\n",
        "\n",
        "elif choice == '4':\n",
        "    if num2 != 0:\n",
        "        result = num1 / num2\n",
        "        print(f\"\\nResult: {num1} / {num2} = {result}\")\n",
        "    else:\n",
        "        print(\"\\nError: Division by zero is not allowed.\")\n",
        "\n",
        "else:\n",
        "    print(\"\\nInvalid operation choice.\")"
      ],
      "metadata": {
        "colab": {
          "base_uri": "https://localhost:8080/"
        },
        "id": "NZDVlX9Xpr-1",
        "outputId": "b0247873-cea1-4d82-bb23-377b6a37f672"
      },
      "execution_count": null,
      "outputs": [
        {
          "output_type": "stream",
          "name": "stdout",
          "text": [
            "Enter the first number: 200\n",
            "Enter the second number: 450\n",
            "\n",
            "Select operation:\n",
            "1. Addition (+)\n",
            "2. Subtraction (-)\n",
            "3. Multiplication (*)\n",
            "4. Division (/)\n",
            "Enter the operation (1/2/3/4): 1\n",
            "\n",
            "Result: 200.0 + 450.0 = 650.0\n"
          ]
        }
      ]
    }
  ]
}