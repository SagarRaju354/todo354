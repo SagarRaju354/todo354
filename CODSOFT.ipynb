{
  "cells": [
    {
      "cell_type": "markdown",
      "metadata": {
        "id": "view-in-github",
        "colab_type": "text"
      },
      "source": [
        "<a href=\"https://colab.research.google.com/github/SagarRaju354/todo354/blob/main/CODSOFT.ipynb\" target=\"_parent\"><img src=\"https://colab.research.google.com/assets/colab-badge.svg\" alt=\"Open In Colab\"/></a>"
      ]
    },
    {
      "cell_type": "code",
      "execution_count": null,
      "metadata": {
        "id": "dreZL-pdTV_C",
        "colab": {
          "base_uri": "https://localhost:8080/"
        },
        "outputId": "f009d7c6-1641-4883-9a35-6db69e6fbbef"
      },
      "outputs": [
        {
          "output_type": "stream",
          "name": "stdout",
          "text": [
            "Enter rock, paper, or scissors (or 'quit' to stop): Rock\n",
            "Computer chose: rock\n",
            "It's a tie!\n",
            "\n",
            "Enter rock, paper, or scissors (or 'quit' to stop): Scissors \n",
            "Invalid choice. Please try again.\n",
            "Enter rock, paper, or scissors (or 'quit' to stop): scissors\n",
            "Computer chose: paper\n",
            "You win!\n",
            "\n",
            "Enter rock, paper, or scissors (or 'quit' to stop): Quit\n",
            "Thanks for playing!\n"
          ]
        }
      ],
      "source": [
        "import random\n",
        "\n",
        "# Choices available\n",
        "choices = ['rock', 'paper', 'scissors']\n",
        "\n",
        "while True:\n",
        "    # Get user input\n",
        "    user_choice = input(\"Enter rock, paper, or scissors (or 'quit' to stop): \").lower()\n",
        "\n",
        "    if user_choice == 'quit':\n",
        "        print(\"Thanks for playing!\")\n",
        "        break\n",
        "\n",
        "    if user_choice not in choices:\n",
        "        print(\"Invalid choice. Please try again.\")\n",
        "        continue\n",
        "\n",
        "    # Computer randomly chooses\n",
        "    computer_choice = random.choice(choices)\n",
        "    print(f\"Computer chose: {computer_choice}\")\n",
        "\n",
        "    # Determine the winner\n",
        "    if user_choice == computer_choice:\n",
        "        print(\"It's a tie!\")\n",
        "    elif (\n",
        "        (user_choice == 'rock' and computer_choice == 'scissors') or\n",
        "        (user_choice == 'paper' and computer_choice == 'rock') or\n",
        "        (user_choice == 'scissors' and computer_choice == 'paper')\n",
        "    ):\n",
        "        print(\"You win!\")\n",
        "    else:\n",
        "        print(\"Computer wins!\")\n",
        "\n",
        "    print()  # Just for spacing"
      ]
    }
  ],
  "metadata": {
    "colab": {
      "provenance": [],
      "authorship_tag": "ABX9TyNZTDBGHnkVQXRo//i+xgch",
      "include_colab_link": true
    },
    "kernelspec": {
      "display_name": "Python 3",
      "name": "python3"
    },
    "language_info": {
      "name": "python"
    }
  },
  "nbformat": 4,
  "nbformat_minor": 0
}